{
 "cells": [
  {
   "cell_type": "code",
   "execution_count": 1,
   "metadata": {},
   "outputs": [],
   "source": [
    "import tensorflow as tf"
   ]
  },
  {
   "cell_type": "code",
   "execution_count": 13,
   "metadata": {},
   "outputs": [],
   "source": [
    "sess = tf.InteractiveSession()"
   ]
  },
  {
   "cell_type": "code",
   "execution_count": 43,
   "metadata": {},
   "outputs": [
    {
     "name": "stdout",
     "output_type": "stream",
     "text": [
      "[[ 1.41028273  1.76107073  2.1326015   3.25804257]\n",
      " [-0.29294467  1.32900047  3.68154383  3.18772244]\n",
      " [-0.45015633  1.11059964  3.40281439  3.56811571]\n",
      " [ 0.69193411  1.46399367  3.12278247  4.01428461]\n",
      " [ 1.87994528  1.89346516  1.92173779  2.68355751]\n",
      " [ 2.22133255  3.30972195  3.50474811  4.51246405]\n",
      " [ 1.25771391  0.31267393  2.96506882  4.30967855]]\n",
      "mean= [ 0.69804859  1.60123134  3.57658982  4.10836506] \n",
      "var= [ 1.01954579  1.23900151  0.58759832  0.73256236]\n"
     ]
    }
   ],
   "source": [
    "x = tf.constant([[1,2,3,4]]*7, tf.float32)\n",
    "y = tf.truncated_normal(x.shape)\n",
    "z = x + y\n",
    "mean, var = tf.nn.moments(z, 0)\n",
    "print(z.eval())\n",
    "print('mean=', mean.eval(), '\\nvar=',var.eval())"
   ]
  },
  {
   "cell_type": "code",
   "execution_count": 44,
   "metadata": {},
   "outputs": [
    {
     "name": "stdout",
     "output_type": "stream",
     "text": [
      "[[ 1.53355587  0.38661456  0.10948229  1.430058  ]\n",
      " [-0.27069056  0.80823851 -0.27680206 -1.31970453]\n",
      " [ 0.63089526 -1.77756488  1.54642105  0.50779915]\n",
      " [ 0.92064953 -0.56752062  0.82397366  0.3272028 ]\n",
      " [-1.43046248 -0.67386436 -1.86051989  0.67843962]\n",
      " [-0.28913945  1.45824242 -0.56958675 -0.08079386]\n",
      " [-1.09480834  0.36585569  0.22702885 -1.54300475]]\n",
      "mean= [ -2.55448480e-08   1.70298989e-07  -3.40597985e-08  -2.04358784e-07] \n",
      "var= [ 0.99983579  0.99980336  0.99982071  0.99983197]\n"
     ]
    }
   ],
   "source": [
    "w = tf.nn.batch_normalization(z,mean,var,0,1,1e-4)\n",
    "mean, var = tf.nn.moments(w, 0)\n",
    "print(w.eval())\n",
    "print('mean=', mean.eval(), '\\nvar=',var.eval())"
   ]
  },
  {
   "cell_type": "code",
   "execution_count": null,
   "metadata": {},
   "outputs": [],
   "source": []
  }
 ],
 "metadata": {
  "kernelspec": {
   "display_name": "Python [conda root]",
   "language": "python",
   "name": "conda-root-py"
  },
  "language_info": {
   "codemirror_mode": {
    "name": "ipython",
    "version": 3
   },
   "file_extension": ".py",
   "mimetype": "text/x-python",
   "name": "python",
   "nbconvert_exporter": "python",
   "pygments_lexer": "ipython3",
   "version": "3.5.4"
  }
 },
 "nbformat": 4,
 "nbformat_minor": 2
}
